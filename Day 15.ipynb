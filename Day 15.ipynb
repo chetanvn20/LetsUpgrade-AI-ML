{
 "cells": [
  {
   "cell_type": "code",
   "execution_count": 48,
   "metadata": {},
   "outputs": [],
   "source": [
    "import numpy as np"
   ]
  },
  {
   "cell_type": "markdown",
   "metadata": {},
   "source": [
    "## 1. Create a 3x3x3 array with random values "
   ]
  },
  {
   "cell_type": "code",
   "execution_count": 18,
   "metadata": {},
   "outputs": [
    {
     "name": "stdout",
     "output_type": "stream",
     "text": [
      "[[[0.5802265  0.70621698 0.82521604]\n",
      "  [0.99943259 0.57970162 0.27643334]\n",
      "  [0.19703554 0.99420755 0.88785629]]\n",
      "\n",
      " [[0.79248349 0.88628736 0.83958564]\n",
      "  [0.19000569 0.33454226 0.42208255]\n",
      "  [0.61137554 0.19546743 0.63031189]]\n",
      "\n",
      " [[0.44826098 0.30193727 0.34618805]\n",
      "  [0.52897265 0.85324151 0.18770345]\n",
      "  [0.55965897 0.85543851 0.61650791]]]\n",
      "(3, 3, 3)\n"
     ]
    }
   ],
   "source": [
    "arr = np.random.random((3,3,3))\n",
    "print(arr)\n",
    "print(arr.shape)"
   ]
  },
  {
   "cell_type": "markdown",
   "metadata": {},
   "source": [
    "## 2.Create a 5x5 matrix with values 1,2,3,4 just below the diagonal"
   ]
  },
  {
   "cell_type": "code",
   "execution_count": 21,
   "metadata": {},
   "outputs": [
    {
     "name": "stdout",
     "output_type": "stream",
     "text": [
      "[[0 0 0 0 0]\n",
      " [1 0 0 0 0]\n",
      " [0 2 0 0 0]\n",
      " [0 0 3 0 0]\n",
      " [0 0 0 4 0]]\n"
     ]
    }
   ],
   "source": [
    "arr = np.diag(np.arange(4)+1, k = -1)\n",
    "print (arr)"
   ]
  },
  {
   "cell_type": "markdown",
   "metadata": {},
   "source": [
    "## 3.Create a 8x8 matrix and fill it with a checkerboard pattern"
   ]
  },
  {
   "cell_type": "code",
   "execution_count": 23,
   "metadata": {},
   "outputs": [
    {
     "name": "stdout",
     "output_type": "stream",
     "text": [
      "Checkerboard Pattern\n",
      "[[0 1 0 1 0 1 0 1]\n",
      " [1 0 1 0 1 0 1 0]\n",
      " [0 1 0 1 0 1 0 1]\n",
      " [1 0 1 0 1 0 1 0]\n",
      " [0 1 0 1 0 1 0 1]\n",
      " [1 0 1 0 1 0 1 0]\n",
      " [0 1 0 1 0 1 0 1]\n",
      " [1 0 1 0 1 0 1 0]]\n"
     ]
    }
   ],
   "source": [
    "a = np.zeros ((8,8), dtype=int)\n",
    "print(\"Checkerboard Pattern\")\n",
    "a[1::2, ::2]= 1\n",
    "a[::2, 1::2] = 1\n",
    "print (a)"
   ]
  },
  {
   "cell_type": "markdown",
   "metadata": {},
   "source": [
    "## 4. Normalize a 5x5 random matrix"
   ]
  },
  {
   "cell_type": "code",
   "execution_count": 25,
   "metadata": {},
   "outputs": [
    {
     "name": "stdout",
     "output_type": "stream",
     "text": [
      "[[0.59092222 0.30987707 0.37487987 0.80626429 0.19122504]\n",
      " [0.15930578 0.         0.24394568 0.08099859 0.55848659]\n",
      " [1.         0.83505384 0.41387889 0.81447663 0.8442514 ]\n",
      " [0.32373529 0.65631911 0.27756727 0.25329264 0.84523551]\n",
      " [0.91728111 0.50499288 0.23680505 0.01450926 0.13539698]]\n"
     ]
    }
   ],
   "source": [
    "b = np.random.random((5,5))\n",
    "bmax , bmin = b.max() , b.min()\n",
    "b = (b - bmin) / (bmax - bmin)\n",
    "print(b)"
   ]
  },
  {
   "cell_type": "markdown",
   "metadata": {},
   "source": [
    "## 5.  How to find common values between two arrays?"
   ]
  },
  {
   "cell_type": "code",
   "execution_count": 29,
   "metadata": {},
   "outputs": [
    {
     "name": "stdout",
     "output_type": "stream",
     "text": [
      "Array 1:   [1, 2, 3, 4, 5, 6, 7, 8, 9, 10]\n",
      "Array 2:  [2, 4, 6, 8, 10, 12, 14, 16, 18, 20]\n",
      "Common values between Array 1 & 2 are:  [ 2  4  6  8 10]\n"
     ]
    }
   ],
   "source": [
    "arr1 = [1,2,3,4,5,6,7,8,9,10]\n",
    "print(\"Array 1:  \" , arr1)\n",
    "arr2 = [2,4,6,8,10,12,14,16,18,20]\n",
    "print(\"Array 2: \" , arr2)\n",
    "print(\"Common values between Array 1 & 2 are: \" , np.intersect1d(arr1,arr2))"
   ]
  },
  {
   "cell_type": "markdown",
   "metadata": {},
   "source": [
    "## 6.How to get the dates of yesterday, today and tomorrow?"
   ]
  },
  {
   "cell_type": "code",
   "execution_count": 30,
   "metadata": {},
   "outputs": [
    {
     "name": "stdout",
     "output_type": "stream",
     "text": [
      "Yestraday:  2020-07-25\n",
      "Today:  2020-07-26\n",
      "Tomorrow:  2020-07-27\n"
     ]
    }
   ],
   "source": [
    "yesterday = np.datetime64('today', 'D') - np.timedelta64(1, 'D')\n",
    "print(\"Yestraday: \",yesterday)\n",
    "today     = np.datetime64('today', 'D')\n",
    "print(\"Today: \",today)\n",
    "tomorrow  = np.datetime64('today', 'D') + np.timedelta64(1, 'D')\n",
    "print(\"Tomorrow: \",tomorrow)"
   ]
  },
  {
   "cell_type": "markdown",
   "metadata": {},
   "source": [
    "## 7. Consider two random array A and B, check if they are equal"
   ]
  },
  {
   "cell_type": "code",
   "execution_count": 36,
   "metadata": {},
   "outputs": [
    {
     "name": "stdout",
     "output_type": "stream",
     "text": [
      "False\n"
     ]
    }
   ],
   "source": [
    "a1 = np.random.randint(0,2,5)\n",
    "a2 = np.random.randint(0,2,5)\n",
    "equal = np.allclose(a1,a2)\n",
    "print(equal)"
   ]
  },
  {
   "cell_type": "markdown",
   "metadata": {},
   "source": [
    "## 8.Create random vector of size 10 and replace the maximum value by 0 "
   ]
  },
  {
   "cell_type": "code",
   "execution_count": 38,
   "metadata": {},
   "outputs": [
    {
     "name": "stdout",
     "output_type": "stream",
     "text": [
      "[0.11828895 0.4156632  0.24526639 0.61151096 0.05186446 0.06808493\n",
      " 0.77367492 0.19096107 0.82701444 0.11875049]\n",
      "[0.11828895 0.4156632  0.24526639 0.61151096 0.05186446 0.06808493\n",
      " 0.77367492 0.19096107 0.         0.11875049]\n"
     ]
    }
   ],
   "source": [
    "v = np.random.random(10)\n",
    "print(v)\n",
    "v[v.argmax()] = 0\n",
    "print(v)"
   ]
  },
  {
   "cell_type": "markdown",
   "metadata": {},
   "source": [
    "## 9. How to print all the values of an array?"
   ]
  },
  {
   "cell_type": "code",
   "execution_count": 47,
   "metadata": {},
   "outputs": [
    {
     "name": "stdout",
     "output_type": "stream",
     "text": [
      "[[0.60893948 0.21966346 0.95892623 0.93629437 0.25184865 0.22183096\n",
      "  0.65716171 0.10129186 0.85664963 0.59937715]\n",
      " [0.64784543 0.14917049 0.00219103 0.27015281 0.54154224 0.20406327\n",
      "  0.8669521  0.42981917 0.07183796 0.0555303 ]\n",
      " [0.42376949 0.75306663 0.53906766 0.64299339 0.5380479  0.11820849\n",
      "  0.7094858  0.56143542 0.95069613 0.43051364]\n",
      " [0.03919256 0.45148163 0.30802323 0.04724182 0.43868457 0.60190077\n",
      "  0.28289022 0.39599951 0.27079916 0.85896245]\n",
      " [0.21774113 0.72994976 0.20673567 0.14980656 0.82421188 0.93904741\n",
      "  0.90146712 0.36283576 0.48372926 0.9416961 ]\n",
      " [0.6884863  0.57133623 0.68806687 0.28662129 0.90163263 0.44347406\n",
      "  0.48013403 0.07359455 0.14973495 0.55693541]\n",
      " [0.76954782 0.31891972 0.23702551 0.7734658  0.33103781 0.42403059\n",
      "  0.80637225 0.08299205 0.85822983 0.40617559]\n",
      " [0.38620947 0.73365201 0.9113921  0.97464106 0.84371707 0.83362469\n",
      "  0.06317788 0.09484429 0.31548841 0.75142696]\n",
      " [0.9849279  0.87613523 0.50202914 0.72444742 0.81530378 0.96710898\n",
      "  0.25343485 0.6276623  0.52005683 0.78049805]\n",
      " [0.19170883 0.3655108  0.79045785 0.3341547  0.88232984 0.78234266\n",
      "  0.8595348  0.50301893 0.05680732 0.57191232]]\n"
     ]
    }
   ],
   "source": [
    "d = np.random.random((10,10))\n",
    "print(d)"
   ]
  },
  {
   "cell_type": "markdown",
   "metadata": {},
   "source": [
    "## 10.Subtract the mean of each row of a matrix"
   ]
  },
  {
   "cell_type": "code",
   "execution_count": 55,
   "metadata": {},
   "outputs": [
    {
     "name": "stdout",
     "output_type": "stream",
     "text": [
      "Original matrix:\n",
      "\n",
      "[[0.92949061 0.84942861 0.80228025 0.60030719 0.51099316 0.0126613\n",
      "  0.22530083 0.99374109 0.31338106 0.07843195]\n",
      " [0.52125141 0.97675474 0.12255457 0.1953524  0.68040558 0.1028886\n",
      "  0.00528695 0.31022549 0.25931086 0.86538947]\n",
      " [0.80529392 0.27398469 0.18970264 0.85556071 0.41698076 0.32662855\n",
      "  0.33776613 0.40973748 0.87786662 0.9671849 ]\n",
      " [0.42812107 0.92997084 0.21064648 0.48326508 0.50729844 0.06456664\n",
      "  0.64479641 0.11550953 0.06035983 0.93345757]\n",
      " [0.46461903 0.09397741 0.43894145 0.95813297 0.26501985 0.62079803\n",
      "  0.75674617 0.43410992 0.04498274 0.18737021]\n",
      " [0.2673495  0.55311573 0.69343236 0.88167014 0.61448248 0.56203953\n",
      "  0.14762184 0.29313443 0.30518716 0.97410422]\n",
      " [0.65461147 0.92175041 0.39965914 0.02509309 0.27463603 0.52967944\n",
      "  0.80779048 0.8015942  0.45563818 0.1178835 ]\n",
      " [0.41849111 0.86885486 0.82919785 0.62151937 0.0238942  0.58960868\n",
      "  0.04394227 0.29613469 0.17600774 0.963135  ]\n",
      " [0.15473753 0.20916719 0.98972043 0.29217589 0.73134566 0.55284693\n",
      "  0.66735183 0.81554729 0.2572156  0.35856454]\n",
      " [0.93442181 0.32671605 0.08105489 0.7485577  0.89170552 0.6640586\n",
      "  0.29733209 0.44707737 0.87401061 0.3336006 ]]\n",
      "\n",
      "Final Matrix \n",
      "\n",
      "[[ 0.39788901  0.31782701  0.27067865  0.06870559 -0.02060845 -0.5189403\n",
      "  -0.30630078  0.46213948 -0.21822054 -0.45316966]\n",
      " [ 0.1173094   0.57281273 -0.28138743 -0.2085896   0.27646357 -0.3010534\n",
      "  -0.39865506 -0.09371651 -0.14463115  0.46144747]\n",
      " [ 0.25922328 -0.27208595 -0.356368    0.30949007 -0.12908988 -0.21944209\n",
      "  -0.20830451 -0.13633316  0.33179598  0.42111426]\n",
      " [-0.00967812  0.49217165 -0.22715271  0.04546589  0.06949925 -0.37323255\n",
      "   0.20699722 -0.32228966 -0.37743936  0.49565839]\n",
      " [ 0.03814926 -0.33249237  0.01247167  0.53166319 -0.16144992  0.19432825\n",
      "   0.33027639  0.00764015 -0.38148704 -0.23909957]\n",
      " [-0.26186424  0.02390199  0.16421862  0.3524564   0.08526874  0.03282579\n",
      "  -0.3815919  -0.23607931 -0.22402658  0.44489048]\n",
      " [ 0.15577788  0.42291682 -0.09917445 -0.47374051 -0.22419756  0.03084585\n",
      "   0.30895688  0.3027606  -0.04319541 -0.38095009]\n",
      " [-0.06458746  0.38577629  0.34611927  0.1384408  -0.45918438  0.1065301\n",
      "  -0.43913631 -0.18694388 -0.30707084  0.48005642]\n",
      " [-0.34812976 -0.2937001   0.48685314 -0.2106914   0.22847837  0.04997964\n",
      "   0.16448454  0.31268    -0.24565169 -0.14430276]\n",
      " [ 0.37456829 -0.23313747 -0.47879863  0.18870417  0.33185199  0.10420508\n",
      "  -0.26252144 -0.11277616  0.31415709 -0.22625293]]\n"
     ]
    }
   ],
   "source": [
    "print(\"Original matrix:\\n\")\n",
    "X = np.random.random((10, 10))\n",
    "print(X)\n",
    "print(\"\\nFinal Matrix \\n\")\n",
    "Y = X - X.mean(axis=1, keepdims=True)\n",
    "print(Y)"
   ]
  },
  {
   "cell_type": "markdown",
   "metadata": {},
   "source": [
    "## 11.Consider a given vector, how to add 1 to each element indexed by a second vector (be careful with repeated indices)? "
   ]
  },
  {
   "cell_type": "code",
   "execution_count": 56,
   "metadata": {},
   "outputs": [
    {
     "name": "stdout",
     "output_type": "stream",
     "text": [
      "[2. 5. 2. 2. 4. 3. 2. 4. 3. 3.]\n"
     ]
    }
   ],
   "source": [
    "e = np.ones(10)\n",
    "I = np.random.randint(0,len(e),20)\n",
    "e += np.bincount(I, minlength=len(e))\n",
    "print(e)"
   ]
  },
  {
   "cell_type": "markdown",
   "metadata": {},
   "source": [
    "## 12.How to get the diagonal of a dot product?"
   ]
  },
  {
   "cell_type": "code",
   "execution_count": 58,
   "metadata": {},
   "outputs": [
    {
     "data": {
      "text/plain": [
       "array([12, 60, 37])"
      ]
     },
     "execution_count": 58,
     "metadata": {},
     "output_type": "execute_result"
    }
   ],
   "source": [
    "A = np.random.randint(0,10,(3,3))\n",
    "B= np.random.randint(0,10,(3,3))\n",
    "np.sum(A * B.T, axis=1)"
   ]
  },
  {
   "cell_type": "markdown",
   "metadata": {},
   "source": [
    "## 13.How to find the most frequent value in an array?"
   ]
  },
  {
   "cell_type": "code",
   "execution_count": 65,
   "metadata": {},
   "outputs": [
    {
     "name": "stdout",
     "output_type": "stream",
     "text": [
      "[4 8 3 2 7 7 9 0 7 0 8 8 2 4 8 8 7 5 2 7 7 2 1 9 1 6 4 7 5 0 2 1 7 2 3 8 3\n",
      " 6 9 9 3 5 0 7 5 3 8 3 2 7]\n",
      "Most Frequent Value: 7\n"
     ]
    }
   ],
   "source": [
    "f = np.random.randint(0,10,50)\n",
    "print (f)\n",
    "most = np.bincount(f).argmax()\n",
    "print('Most Frequent Value:' , most)"
   ]
  },
  {
   "cell_type": "markdown",
   "metadata": {},
   "source": [
    "## 14.How to get the n largest values of an array"
   ]
  },
  {
   "cell_type": "code",
   "execution_count": 68,
   "metadata": {},
   "outputs": [
    {
     "name": "stdout",
     "output_type": "stream",
     "text": [
      "[9993 9999 9994 9997 9996 9992 9995 9998]\n"
     ]
    }
   ],
   "source": [
    "Z = np.arange(10000)\n",
    "np.random.shuffle(Z)\n",
    "n = 8\n",
    "print (Z[np.argpartition(-Z,n)[:n]])"
   ]
  },
  {
   "cell_type": "markdown",
   "metadata": {},
   "source": [
    "## 15.How to create a record array from a regular array?"
   ]
  },
  {
   "cell_type": "code",
   "execution_count": 76,
   "metadata": {},
   "outputs": [],
   "source": [
    "g = np.array([(\"Hello\", 2.5, 3),\n",
    "              (\"World\", 3.6, 2)])\n",
    "R = np.core.records.fromarrays(g.T,names='col1, col2, col3',formats = 'S8, f8, i8')"
   ]
  },
  {
   "cell_type": "code",
   "execution_count": 77,
   "metadata": {},
   "outputs": [
    {
     "name": "stdout",
     "output_type": "stream",
     "text": [
      "[['Hello' '2.5' '3']\n",
      " ['World' '3.6' '2']]\n",
      "\n",
      " [(b'Hello', 2.5, 3) (b'World', 3.6, 2)]\n"
     ]
    }
   ],
   "source": [
    "print(g)\n",
    "print(\"\\n\",R)"
   ]
  }
 ],
 "metadata": {
  "kernelspec": {
   "display_name": "Python 3",
   "language": "python",
   "name": "python3"
  },
  "language_info": {
   "codemirror_mode": {
    "name": "ipython",
    "version": 3
   },
   "file_extension": ".py",
   "mimetype": "text/x-python",
   "name": "python",
   "nbconvert_exporter": "python",
   "pygments_lexer": "ipython3",
   "version": "3.7.6"
  }
 },
 "nbformat": 4,
 "nbformat_minor": 2
}
