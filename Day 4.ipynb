{
 "cells": [
  {
   "cell_type": "markdown",
   "metadata": {},
   "source": [
    "# Question 1\n",
    "Research on whether addition, subtraction, multiplication, division, floor division and modulo\n",
    "operations be performed on complex numbers. Based on your study, implement a Python\n",
    "program to demonstrate these operations."
   ]
  },
  {
   "cell_type": "markdown",
   "metadata": {},
   "source": [
    "1. Python supports complex numbers.\n",
    "2. x+yi is representation of complex numbers.\n",
    "3. Python converts the numbers x and y into complex using the complex(x,y) Function.\n",
    "4. we can perform Addition, Substraction, Multiplication, Division on complex numbers.\n",
    "5. We can't Perform Floor division on complex numbers."
   ]
  },
  {
   "cell_type": "code",
   "execution_count": 3,
   "metadata": {},
   "outputs": [
    {
     "name": "stdout",
     "output_type": "stream",
     "text": [
      "Enter 1st complex number: 2+3j\n",
      "Enter 2nd complex number: 7+3j\n",
      "Addition is:  (9+6j)\n",
      "Subtraction is:  (-5+0j)\n",
      "Multiplication is:  (5+27j)\n",
      "Division is:  (0.39655172413793105+0.25862068965517243j)\n",
      "Floor Division is:  (-110.20420970720744-400.38553305263645j)\n",
      "Modulo is:  (3.605551275463989+0j)\n"
     ]
    }
   ],
   "source": [
    "#program to demonstrate operations on complex numbers\n",
    "import cmath\n",
    "c1 = complex(input(\"Enter 1st complex number: \"))\n",
    "c2 = complex(input(\"Enter 2nd complex number: \"))\n",
    "\n",
    "add = c1 + c2\n",
    "print(\"Addition is: \", +add)\n",
    "sub = c1 - c2\n",
    "print(\"Subtraction is: \", +sub)\n",
    "mul = c1 * c2\n",
    "print(\"Multiplication is: \", +mul)\n",
    "div = c1 / c2\n",
    "print(\"Division is: \", +div)\n",
    "fdiv = c1**c2\n",
    "print(\"Floor Division is: \", +fdiv)\n",
    "mod = cmath.sqrt((c1.real)**2+(c1.imag)**2)\n",
    "print(\"Modulo is: \", +mod)"
   ]
  },
  {
   "cell_type": "markdown",
   "metadata": {},
   "source": [
    "# Question 2 :\n",
    "Research on range() functions and its parameters. Create a markdown cell and write in your own\n",
    "words (no copy-paste from google please) what you understand about it. Implement a small\n",
    "program of your choice on the same.\n"
   ]
  },
  {
   "cell_type": "markdown",
   "metadata": {},
   "source": [
    "range() is a built-in function of Python.The range() function is used to generate a sequence of numbers.\n",
    "range() allows user to generate a series of numbers within a given range. Depending on how many arguments user is passing to the function, user can decide where that series of numbers will begin and end as well as how big the difference will be between one number and the next.range() takes mainly three arguments.\n",
    "\n",
    "1. start: integer starting from which the sequence of integers is to be returned\n",
    "2. stop: integer before which the sequence of integers is to be returned.\n",
    " The range of integers end at stop – 1.\n",
    "3. step: integer value which determines the increment between each integer in the sequence"
   ]
  },
  {
   "cell_type": "code",
   "execution_count": 7,
   "metadata": {},
   "outputs": [
    {
     "name": "stdout",
     "output_type": "stream",
     "text": [
      "1\n",
      "2\n",
      "3\n",
      "4\n",
      "5\n",
      "6\n",
      "7\n",
      "8\n",
      "9\n",
      "10\n"
     ]
    }
   ],
   "source": [
    "#range() function to print numbers from 1 - 10\n",
    "for i in range(1,11):\n",
    "    print(i)\n",
    "    i += 1\n",
    "    "
   ]
  },
  {
   "cell_type": "markdown",
   "metadata": {},
   "source": [
    "# Question 3:\n",
    " Consider two numbers. Perform their subtraction and if the result of subtraction is greater than\n",
    "25, print their multiplication result else print their division result"
   ]
  },
  {
   "cell_type": "code",
   "execution_count": 9,
   "metadata": {},
   "outputs": [
    {
     "name": "stdout",
     "output_type": "stream",
     "text": [
      "Enter 1st number: 5\n",
      "Enter 2nd number: 60\n",
      "0.08333333333333333\n"
     ]
    }
   ],
   "source": [
    "a = int(input(\"Enter 1st number: \"))\n",
    "b = int(input(\"Enter 2nd number: \"))\n",
    "sub = a - b\n",
    "\n",
    "if sub > 25 :\n",
    "    print(a*b)\n",
    "else :\n",
    "    print(a/b)"
   ]
  },
  {
   "cell_type": "markdown",
   "metadata": {},
   "source": [
    "# Question 4:\n",
    "Consider a list of 10 elements of integer values. If the number in the list is divisible by 2, print the\n",
    "result as \"square of that number minus 2\"."
   ]
  },
  {
   "cell_type": "code",
   "execution_count": 11,
   "metadata": {},
   "outputs": [
    {
     "name": "stdout",
     "output_type": "stream",
     "text": [
      "-2\n",
      "2\n",
      "14\n",
      "34\n",
      "62\n"
     ]
    }
   ],
   "source": [
    "lst = range(10)\n",
    "\n",
    "for i in lst :\n",
    "    if i % 2  == 0:\n",
    "        print((i*i)-2)"
   ]
  },
  {
   "cell_type": "markdown",
   "metadata": {},
   "source": [
    "# Question 5:\n",
    "Consider a list of 10 elements. Print all the elements in the list which are greater than 7 when that\n",
    "number is divided 2."
   ]
  },
  {
   "cell_type": "code",
   "execution_count": 13,
   "metadata": {},
   "outputs": [
    {
     "name": "stdout",
     "output_type": "stream",
     "text": [
      "15\n",
      "16\n",
      "17\n",
      "18\n",
      "19\n",
      "20\n"
     ]
    }
   ],
   "source": [
    "lst = range(11,21)\n",
    "for i in lst: \n",
    "    t = i/2\n",
    "    if t > 7:\n",
    "        print(i)\n",
    "    i += 1"
   ]
  },
  {
   "cell_type": "code",
   "execution_count": null,
   "metadata": {},
   "outputs": [],
   "source": []
  }
 ],
 "metadata": {
  "kernelspec": {
   "display_name": "Python 3",
   "language": "python",
   "name": "python3"
  }
 },
 "nbformat": 4,
 "nbformat_minor": 4
}
