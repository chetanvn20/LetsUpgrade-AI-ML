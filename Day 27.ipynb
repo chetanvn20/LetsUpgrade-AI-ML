{
 "cells": [
  {
   "cell_type": "markdown",
   "metadata": {},
   "source": [
    "# KNN (k-nearest Neighbours)"
   ]
  },
  {
   "cell_type": "code",
   "execution_count": 1,
   "metadata": {},
   "outputs": [
    {
     "name": "stdout",
     "output_type": "stream",
     "text": [
      "C:\\Users\\narkh\\Downloads\\Datasets\\Decision tree\n"
     ]
    }
   ],
   "source": [
    "cd C:\\Users\\narkh\\Downloads\\Datasets\\Decision tree"
   ]
  },
  {
   "cell_type": "code",
   "execution_count": 31,
   "metadata": {},
   "outputs": [],
   "source": [
    "import pandas as pd\n",
    "import numpy as np\n",
    "from sklearn import preprocessing\n",
    "from sklearn.model_selection import train_test_split\n",
    "from sklearn.metrics import accuracy_score\n",
    "from sklearn.metrics import confusion_matrix\n",
    "from sklearn import svm"
   ]
  },
  {
   "cell_type": "code",
   "execution_count": 3,
   "metadata": {},
   "outputs": [],
   "source": [
    "data = pd.read_csv(\"train.csv\")"
   ]
  },
  {
   "cell_type": "code",
   "execution_count": 4,
   "metadata": {},
   "outputs": [
    {
     "data": {
      "text/html": [
       "<div>\n",
       "<style scoped>\n",
       "    .dataframe tbody tr th:only-of-type {\n",
       "        vertical-align: middle;\n",
       "    }\n",
       "\n",
       "    .dataframe tbody tr th {\n",
       "        vertical-align: top;\n",
       "    }\n",
       "\n",
       "    .dataframe thead th {\n",
       "        text-align: right;\n",
       "    }\n",
       "</style>\n",
       "<table border=\"1\" class=\"dataframe\">\n",
       "  <thead>\n",
       "    <tr style=\"text-align: right;\">\n",
       "      <th></th>\n",
       "      <th>PassengerId</th>\n",
       "      <th>Survived</th>\n",
       "      <th>Pclass</th>\n",
       "      <th>Name</th>\n",
       "      <th>Sex</th>\n",
       "      <th>Age</th>\n",
       "      <th>SibSp</th>\n",
       "      <th>Parch</th>\n",
       "      <th>Ticket</th>\n",
       "      <th>Fare</th>\n",
       "      <th>Cabin</th>\n",
       "      <th>Embarked</th>\n",
       "    </tr>\n",
       "  </thead>\n",
       "  <tbody>\n",
       "    <tr>\n",
       "      <th>0</th>\n",
       "      <td>1</td>\n",
       "      <td>0</td>\n",
       "      <td>3</td>\n",
       "      <td>Braund, Mr. Owen Harris</td>\n",
       "      <td>male</td>\n",
       "      <td>22.0</td>\n",
       "      <td>1</td>\n",
       "      <td>0</td>\n",
       "      <td>A/5 21171</td>\n",
       "      <td>7.2500</td>\n",
       "      <td>NaN</td>\n",
       "      <td>S</td>\n",
       "    </tr>\n",
       "    <tr>\n",
       "      <th>1</th>\n",
       "      <td>2</td>\n",
       "      <td>1</td>\n",
       "      <td>1</td>\n",
       "      <td>Cumings, Mrs. John Bradley (Florence Briggs Th...</td>\n",
       "      <td>female</td>\n",
       "      <td>38.0</td>\n",
       "      <td>1</td>\n",
       "      <td>0</td>\n",
       "      <td>PC 17599</td>\n",
       "      <td>71.2833</td>\n",
       "      <td>C85</td>\n",
       "      <td>C</td>\n",
       "    </tr>\n",
       "    <tr>\n",
       "      <th>2</th>\n",
       "      <td>3</td>\n",
       "      <td>1</td>\n",
       "      <td>3</td>\n",
       "      <td>Heikkinen, Miss. Laina</td>\n",
       "      <td>female</td>\n",
       "      <td>26.0</td>\n",
       "      <td>0</td>\n",
       "      <td>0</td>\n",
       "      <td>STON/O2. 3101282</td>\n",
       "      <td>7.9250</td>\n",
       "      <td>NaN</td>\n",
       "      <td>S</td>\n",
       "    </tr>\n",
       "    <tr>\n",
       "      <th>3</th>\n",
       "      <td>4</td>\n",
       "      <td>1</td>\n",
       "      <td>1</td>\n",
       "      <td>Futrelle, Mrs. Jacques Heath (Lily May Peel)</td>\n",
       "      <td>female</td>\n",
       "      <td>35.0</td>\n",
       "      <td>1</td>\n",
       "      <td>0</td>\n",
       "      <td>113803</td>\n",
       "      <td>53.1000</td>\n",
       "      <td>C123</td>\n",
       "      <td>S</td>\n",
       "    </tr>\n",
       "    <tr>\n",
       "      <th>4</th>\n",
       "      <td>5</td>\n",
       "      <td>0</td>\n",
       "      <td>3</td>\n",
       "      <td>Allen, Mr. William Henry</td>\n",
       "      <td>male</td>\n",
       "      <td>35.0</td>\n",
       "      <td>0</td>\n",
       "      <td>0</td>\n",
       "      <td>373450</td>\n",
       "      <td>8.0500</td>\n",
       "      <td>NaN</td>\n",
       "      <td>S</td>\n",
       "    </tr>\n",
       "  </tbody>\n",
       "</table>\n",
       "</div>"
      ],
      "text/plain": [
       "   PassengerId  Survived  Pclass  \\\n",
       "0            1         0       3   \n",
       "1            2         1       1   \n",
       "2            3         1       3   \n",
       "3            4         1       1   \n",
       "4            5         0       3   \n",
       "\n",
       "                                                Name     Sex   Age  SibSp  \\\n",
       "0                            Braund, Mr. Owen Harris    male  22.0      1   \n",
       "1  Cumings, Mrs. John Bradley (Florence Briggs Th...  female  38.0      1   \n",
       "2                             Heikkinen, Miss. Laina  female  26.0      0   \n",
       "3       Futrelle, Mrs. Jacques Heath (Lily May Peel)  female  35.0      1   \n",
       "4                           Allen, Mr. William Henry    male  35.0      0   \n",
       "\n",
       "   Parch            Ticket     Fare Cabin Embarked  \n",
       "0      0         A/5 21171   7.2500   NaN        S  \n",
       "1      0          PC 17599  71.2833   C85        C  \n",
       "2      0  STON/O2. 3101282   7.9250   NaN        S  \n",
       "3      0            113803  53.1000  C123        S  \n",
       "4      0            373450   8.0500   NaN        S  "
      ]
     },
     "execution_count": 4,
     "metadata": {},
     "output_type": "execute_result"
    }
   ],
   "source": [
    "data.head()"
   ]
  },
  {
   "cell_type": "code",
   "execution_count": 5,
   "metadata": {},
   "outputs": [
    {
     "data": {
      "text/plain": [
       "Index(['PassengerId', 'Survived', 'Pclass', 'Name', 'Sex', 'Age', 'SibSp',\n",
       "       'Parch', 'Ticket', 'Fare', 'Cabin', 'Embarked'],\n",
       "      dtype='object')"
      ]
     },
     "execution_count": 5,
     "metadata": {},
     "output_type": "execute_result"
    }
   ],
   "source": [
    "data.columns"
   ]
  },
  {
   "cell_type": "code",
   "execution_count": 6,
   "metadata": {},
   "outputs": [],
   "source": [
    "le = preprocessing.LabelEncoder()"
   ]
  },
  {
   "cell_type": "code",
   "execution_count": 7,
   "metadata": {},
   "outputs": [],
   "source": [
    "data[\"Sex\"] = le.fit_transform(data[\"Sex\"])\n",
    "data[\"Embarked\"] = le.fit_transform(data[\"Embarked\"])"
   ]
  },
  {
   "cell_type": "code",
   "execution_count": 8,
   "metadata": {},
   "outputs": [],
   "source": [
    "from sklearn import neighbors"
   ]
  },
  {
   "cell_type": "code",
   "execution_count": 58,
   "metadata": {},
   "outputs": [],
   "source": [
    "y = data[\"Survived\"]\n",
    "X = data[['Pclass','Sex', 'Age', 'SibSp','Parch', 'Embarked']]"
   ]
  },
  {
   "cell_type": "code",
   "execution_count": 59,
   "metadata": {},
   "outputs": [],
   "source": [
    "X_train,X_test,y_train,y_test = train_test_split(X,y,test_size=0.25,random_state=0)"
   ]
  },
  {
   "cell_type": "markdown",
   "metadata": {},
   "source": [
    "knn = neighbors.KNeighborsClassifier(n_neighbors=50)\n",
    "\n",
    "knn.fit(X_train,y_train)\n",
    "\n",
    "knn.score(X_train,y_train)"
   ]
  },
  {
   "cell_type": "code",
   "execution_count": 60,
   "metadata": {},
   "outputs": [
    {
     "name": "stdout",
     "output_type": "stream",
     "text": [
      "n-value    Accuracy\n",
      "   1       71.74887892376681 %\n",
      "   2       71.30044843049326 %\n",
      "   3       71.30044843049326 %\n",
      "   4       73.09417040358744 %\n",
      "   5       72.19730941704036 %\n",
      "   6       69.95515695067265 %\n",
      "   7       70.85201793721974 %\n",
      "   8       67.2645739910314 %\n",
      "   9       70.85201793721974 %\n",
      "   10       65.91928251121077 %\n",
      "   11       68.60986547085201 %\n",
      "   12       69.05829596412556 %\n",
      "   13       69.05829596412556 %\n",
      "   14       69.50672645739911 %\n",
      "   15       70.85201793721974 %\n",
      "   16       69.05829596412556 %\n",
      "   17       69.05829596412556 %\n",
      "   18       68.16143497757847 %\n",
      "   19       69.50672645739911 %\n",
      "   20       69.05829596412556 %\n",
      "   21       70.4035874439462 %\n",
      "   22       70.85201793721974 %\n",
      "   23       69.50672645739911 %\n",
      "   24       69.95515695067265 %\n",
      "   25       69.05829596412556 %\n",
      "   26       65.02242152466367 %\n",
      "   27       67.2645739910314 %\n",
      "   28       65.47085201793722 %\n",
      "   29       66.3677130044843 %\n",
      "   30       66.81614349775785 %\n",
      "   31       67.71300448430493 %\n",
      "   32       67.71300448430493 %\n",
      "   33       66.81614349775785 %\n",
      "   34       67.2645739910314 %\n",
      "   35       68.60986547085201 %\n",
      "   36       65.47085201793722 %\n",
      "   37       65.47085201793722 %\n",
      "   38       64.57399103139014 %\n",
      "   39       65.47085201793722 %\n",
      "   40       65.02242152466367 %\n",
      "   41       66.3677130044843 %\n",
      "   42       63.22869955156951 %\n",
      "   43       64.12556053811659 %\n",
      "   44       63.22869955156951 %\n",
      "   45       63.22869955156951 %\n",
      "   46       61.88340807174888 %\n",
      "   47       62.78026905829597 %\n",
      "   48       63.22869955156951 %\n",
      "   49       63.22869955156951 %\n",
      "   50       62.33183856502242 %\n",
      "   51       62.33183856502242 %\n",
      "   52       62.33183856502242 %\n",
      "   53       62.33183856502242 %\n",
      "   54       61.88340807174888 %\n",
      "   55       62.33183856502242 %\n",
      "   56       61.43497757847533 %\n",
      "   57       61.88340807174888 %\n",
      "   58       61.88340807174888 %\n",
      "   59       61.88340807174888 %\n",
      "   60       61.43497757847533 %\n",
      "   61       61.88340807174888 %\n",
      "   62       61.43497757847533 %\n",
      "   63       61.43497757847533 %\n",
      "   64       61.43497757847533 %\n",
      "   65       61.43497757847533 %\n",
      "   66       61.43497757847533 %\n",
      "   67       61.43497757847533 %\n",
      "   68       60.98654708520179 %\n",
      "   69       60.98654708520179 %\n",
      "   70       60.98654708520179 %\n",
      "   71       60.53811659192825 %\n",
      "   72       60.53811659192825 %\n",
      "   73       60.53811659192825 %\n",
      "   74       60.53811659192825 %\n",
      "   75       60.53811659192825 %\n",
      "   76       60.53811659192825 %\n",
      "   77       60.53811659192825 %\n",
      "   78       60.53811659192825 %\n",
      "   79       60.53811659192825 %\n",
      "   80       60.53811659192825 %\n",
      "   81       60.53811659192825 %\n",
      "   82       60.53811659192825 %\n",
      "   83       60.53811659192825 %\n",
      "   84       60.53811659192825 %\n",
      "   85       60.53811659192825 %\n",
      "   86       60.53811659192825 %\n",
      "   87       60.53811659192825 %\n",
      "   88       60.53811659192825 %\n",
      "   89       60.53811659192825 %\n",
      "   90       60.53811659192825 %\n",
      "   91       60.53811659192825 %\n",
      "   92       60.53811659192825 %\n",
      "   93       60.53811659192825 %\n",
      "   94       60.98654708520179 %\n",
      "   95       60.53811659192825 %\n",
      "   96       60.0896860986547 %\n",
      "   97       59.64125560538116 %\n",
      "   98       60.0896860986547 %\n",
      "   99       60.0896860986547 %\n",
      "   100       60.0896860986547 %\n",
      "   101       60.98654708520179 %\n",
      "   102       60.98654708520179 %\n",
      "   103       60.53811659192825 %\n",
      "   104       60.53811659192825 %\n",
      "   105       60.53811659192825 %\n",
      "   106       59.19282511210763 %\n",
      "   107       60.53811659192825 %\n",
      "   108       59.64125560538116 %\n",
      "   109       59.19282511210763 %\n",
      "   110       60.98654708520179 %\n",
      "   111       60.98654708520179 %\n",
      "   112       60.0896860986547 %\n",
      "   113       60.53811659192825 %\n",
      "   114       60.0896860986547 %\n",
      "   115       60.0896860986547 %\n",
      "   116       60.0896860986547 %\n",
      "   117       60.0896860986547 %\n",
      "   118       59.19282511210763 %\n",
      "   119       59.19282511210763 %\n",
      "   120       59.19282511210763 %\n",
      "   121       59.19282511210763 %\n",
      "   122       59.19282511210763 %\n",
      "   123       59.19282511210763 %\n",
      "   124       59.19282511210763 %\n",
      "   125       59.19282511210763 %\n",
      "   126       59.19282511210763 %\n",
      "   127       59.19282511210763 %\n",
      "   128       59.19282511210763 %\n",
      "   129       59.19282511210763 %\n",
      "   130       59.19282511210763 %\n",
      "   131       59.19282511210763 %\n",
      "   132       59.19282511210763 %\n",
      "   133       59.19282511210763 %\n",
      "   134       59.19282511210763 %\n",
      "   135       59.19282511210763 %\n",
      "   136       59.19282511210763 %\n",
      "   137       59.19282511210763 %\n",
      "   138       59.19282511210763 %\n",
      "   139       59.19282511210763 %\n",
      "   140       59.19282511210763 %\n",
      "   141       59.19282511210763 %\n",
      "   142       59.19282511210763 %\n",
      "   143       59.19282511210763 %\n",
      "   144       59.19282511210763 %\n",
      "   145       59.19282511210763 %\n",
      "   146       59.19282511210763 %\n",
      "   147       59.19282511210763 %\n",
      "   148       59.19282511210763 %\n",
      "   149       59.19282511210763 %\n",
      "   150       59.19282511210763 %\n",
      "   151       59.19282511210763 %\n",
      "   152       59.19282511210763 %\n",
      "   153       59.19282511210763 %\n",
      "   154       59.19282511210763 %\n",
      "   155       59.19282511210763 %\n",
      "   156       59.19282511210763 %\n",
      "   157       59.19282511210763 %\n",
      "   158       59.19282511210763 %\n",
      "   159       59.19282511210763 %\n",
      "   160       59.19282511210763 %\n",
      "   161       59.19282511210763 %\n",
      "   162       59.19282511210763 %\n",
      "   163       59.19282511210763 %\n",
      "   164       59.19282511210763 %\n",
      "   165       59.19282511210763 %\n",
      "   166       59.19282511210763 %\n",
      "   167       59.19282511210763 %\n",
      "   168       59.19282511210763 %\n",
      "   169       59.19282511210763 %\n",
      "   170       59.19282511210763 %\n",
      "   171       59.19282511210763 %\n",
      "   172       59.19282511210763 %\n",
      "   173       59.19282511210763 %\n",
      "   174       59.19282511210763 %\n",
      "   175       59.19282511210763 %\n",
      "   176       59.19282511210763 %\n",
      "   177       59.19282511210763 %\n",
      "   178       59.19282511210763 %\n",
      "   179       59.19282511210763 %\n",
      "   180       59.19282511210763 %\n",
      "   181       59.19282511210763 %\n",
      "   182       59.19282511210763 %\n",
      "   183       59.19282511210763 %\n",
      "   184       59.19282511210763 %\n",
      "   185       59.19282511210763 %\n",
      "   186       59.19282511210763 %\n",
      "   187       59.19282511210763 %\n",
      "   188       59.19282511210763 %\n",
      "   189       59.19282511210763 %\n",
      "   190       59.19282511210763 %\n",
      "   191       59.19282511210763 %\n",
      "   192       59.19282511210763 %\n",
      "   193       59.19282511210763 %\n",
      "   194       59.19282511210763 %\n",
      "   195       59.19282511210763 %\n",
      "   196       59.19282511210763 %\n",
      "   197       59.19282511210763 %\n",
      "   198       59.19282511210763 %\n",
      "   199       59.19282511210763 %\n",
      "   200       59.19282511210763 %\n",
      "   201       59.19282511210763 %\n",
      "   202       59.19282511210763 %\n",
      "   203       59.19282511210763 %\n",
      "   204       59.19282511210763 %\n",
      "   205       59.19282511210763 %\n",
      "   206       59.19282511210763 %\n",
      "   207       59.19282511210763 %\n",
      "   208       59.19282511210763 %\n",
      "   209       59.19282511210763 %\n",
      "   210       59.19282511210763 %\n",
      "   211       59.19282511210763 %\n",
      "   212       59.19282511210763 %\n",
      "   213       59.19282511210763 %\n",
      "   214       59.19282511210763 %\n",
      "   215       59.19282511210763 %\n",
      "   216       59.19282511210763 %\n",
      "   217       59.19282511210763 %\n",
      "   218       59.19282511210763 %\n",
      "   219       59.19282511210763 %\n",
      "   220       59.19282511210763 %\n",
      "   221       59.19282511210763 %\n",
      "   222       59.19282511210763 %\n",
      "   223       59.19282511210763 %\n",
      "   224       59.19282511210763 %\n",
      "   225       59.19282511210763 %\n",
      "   226       59.19282511210763 %\n",
      "   227       59.19282511210763 %\n",
      "   228       59.19282511210763 %\n",
      "   229       59.19282511210763 %\n",
      "   230       59.19282511210763 %\n",
      "   231       59.19282511210763 %\n",
      "   232       59.19282511210763 %\n",
      "   233       59.19282511210763 %\n",
      "   234       59.19282511210763 %\n",
      "   235       59.19282511210763 %\n",
      "   236       59.19282511210763 %\n",
      "   237       59.19282511210763 %\n",
      "   238       59.19282511210763 %\n",
      "   239       59.19282511210763 %\n",
      "   240       59.19282511210763 %\n",
      "   241       59.19282511210763 %\n",
      "   242       59.19282511210763 %\n",
      "   243       59.19282511210763 %\n",
      "   244       59.19282511210763 %\n",
      "   245       59.19282511210763 %\n",
      "   246       59.19282511210763 %\n",
      "   247       59.19282511210763 %\n",
      "   248       59.19282511210763 %\n",
      "   249       59.19282511210763 %\n",
      "   250       59.19282511210763 %\n",
      "   251       59.19282511210763 %\n",
      "   252       59.19282511210763 %\n",
      "   253       59.19282511210763 %\n",
      "   254       59.19282511210763 %\n",
      "   255       59.19282511210763 %\n",
      "   256       59.19282511210763 %\n",
      "   257       59.19282511210763 %\n",
      "   258       59.19282511210763 %\n",
      "   259       59.19282511210763 %\n",
      "   260       59.19282511210763 %\n",
      "   261       59.19282511210763 %\n",
      "   262       59.19282511210763 %\n",
      "   263       59.19282511210763 %\n",
      "   264       59.19282511210763 %\n",
      "   265       59.19282511210763 %\n",
      "   266       59.19282511210763 %\n",
      "   267       59.19282511210763 %\n"
     ]
    }
   ],
   "source": [
    "print(\"n-value\", \"  \", \"Accuracy\")\n",
    "for i in range(1,268):\n",
    "    knn = neighbors.KNeighborsClassifier(n_neighbors=i)\n",
    "    knn.fit(X_train,y_train)\n",
    "    print(\"  \", i, \"     \", (knn.score(X_test,y_test))*100,\"%\")"
   ]
  },
  {
   "cell_type": "markdown",
   "metadata": {},
   "source": [
    "# SVM (Support Vector Machine)"
   ]
  },
  {
   "cell_type": "code",
   "execution_count": 35,
   "metadata": {},
   "outputs": [],
   "source": [
    "def svmmodel(X,y):\n",
    "    X_train,X_test,y_train,y_test = train_test_split(X,y,test_size=0.25,random_state=0)\n",
    "    clf = svm.SVC(gamma=0.01,C=100)\n",
    "    clf.fit(X_train,y_train)\n",
    "    y_pred = clf.predict(X_test)\n",
    "    a = accuracy_score(y_test,y_pred,normalize=True)\n",
    "    return a"
   ]
  },
  {
   "cell_type": "markdown",
   "metadata": {},
   "source": [
    "- Dependent Variable - Pclass"
   ]
  },
  {
   "cell_type": "code",
   "execution_count": 55,
   "metadata": {},
   "outputs": [],
   "source": [
    "y1 = data[\"Pclass\"]\n",
    "X1 = data[['Survived','Sex', 'Age', 'SibSp','Parch', 'Fare', 'Embarked']]"
   ]
  },
  {
   "cell_type": "code",
   "execution_count": 56,
   "metadata": {},
   "outputs": [
    {
     "data": {
      "text/plain": [
       "0.9103139013452914"
      ]
     },
     "execution_count": 56,
     "metadata": {},
     "output_type": "execute_result"
    }
   ],
   "source": [
    "svmmodel(X1,y1)"
   ]
  },
  {
   "cell_type": "markdown",
   "metadata": {},
   "source": [
    "- Dependent Variable - Survived"
   ]
  },
  {
   "cell_type": "code",
   "execution_count": 39,
   "metadata": {},
   "outputs": [],
   "source": [
    "y1 = data[\"Survived\"]\n",
    "X1 = data[['Pclass','Sex', 'Age', 'SibSp','Parch', 'Embarked']]"
   ]
  },
  {
   "cell_type": "code",
   "execution_count": 40,
   "metadata": {},
   "outputs": [
    {
     "data": {
      "text/plain": [
       "0.7713004484304933"
      ]
     },
     "execution_count": 40,
     "metadata": {},
     "output_type": "execute_result"
    }
   ],
   "source": [
    "svmmodel(X1,y1)"
   ]
  },
  {
   "cell_type": "markdown",
   "metadata": {},
   "source": [
    "- Dependent Variable - Sex"
   ]
  },
  {
   "cell_type": "code",
   "execution_count": 41,
   "metadata": {},
   "outputs": [],
   "source": [
    "y1 = data[\"Sex\"]\n",
    "X1 = data[['Pclass','Survived', 'Age', 'SibSp','Parch', 'Embarked']]"
   ]
  },
  {
   "cell_type": "code",
   "execution_count": 42,
   "metadata": {},
   "outputs": [
    {
     "data": {
      "text/plain": [
       "0.7443946188340808"
      ]
     },
     "execution_count": 42,
     "metadata": {},
     "output_type": "execute_result"
    }
   ],
   "source": [
    "svmmodel(X1,y1)"
   ]
  },
  {
   "cell_type": "markdown",
   "metadata": {},
   "source": [
    "- Dependent Variable - SibSp"
   ]
  },
  {
   "cell_type": "code",
   "execution_count": 47,
   "metadata": {},
   "outputs": [],
   "source": [
    "y1 = data[\"SibSp\"]\n",
    "X1 = data[['Pclass','Survived', 'Sex', 'Age','Parch', 'Embarked']]"
   ]
  },
  {
   "cell_type": "code",
   "execution_count": 48,
   "metadata": {},
   "outputs": [
    {
     "data": {
      "text/plain": [
       "0.695067264573991"
      ]
     },
     "execution_count": 48,
     "metadata": {},
     "output_type": "execute_result"
    }
   ],
   "source": [
    "svmmodel(X1,y1)"
   ]
  },
  {
   "cell_type": "markdown",
   "metadata": {},
   "source": [
    "- Dependent Variable - Parch"
   ]
  },
  {
   "cell_type": "code",
   "execution_count": 49,
   "metadata": {},
   "outputs": [],
   "source": [
    "y1 = data[\"Parch\"]\n",
    "X1 = data[['Pclass','Survived', 'Sex', 'Age','SibSp', 'Embarked']]"
   ]
  },
  {
   "cell_type": "code",
   "execution_count": 50,
   "metadata": {},
   "outputs": [
    {
     "data": {
      "text/plain": [
       "0.7847533632286996"
      ]
     },
     "execution_count": 50,
     "metadata": {},
     "output_type": "execute_result"
    }
   ],
   "source": [
    "svmmodel(X1,y1)"
   ]
  },
  {
   "cell_type": "markdown",
   "metadata": {},
   "source": [
    "- Dependent Variable - Embarked"
   ]
  },
  {
   "cell_type": "code",
   "execution_count": 51,
   "metadata": {},
   "outputs": [],
   "source": [
    "y1 = data[\"Embarked\"]\n",
    "X1 = data[['Pclass','Survived', 'Sex', 'Age','SibSp', 'Parch']]"
   ]
  },
  {
   "cell_type": "code",
   "execution_count": 52,
   "metadata": {},
   "outputs": [
    {
     "data": {
      "text/plain": [
       "0.7354260089686099"
      ]
     },
     "execution_count": 52,
     "metadata": {},
     "output_type": "execute_result"
    }
   ],
   "source": [
    "svmmodel(X1,y1)"
   ]
  },
  {
   "cell_type": "markdown",
   "metadata": {},
   "source": [
    "   "
   ]
  }
 ],
 "metadata": {
  "kernelspec": {
   "display_name": "Python 3",
   "language": "python",
   "name": "python3"
  },
  "language_info": {
   "codemirror_mode": {
    "name": "ipython",
    "version": 3
   },
   "file_extension": ".py",
   "mimetype": "text/x-python",
   "name": "python",
   "nbconvert_exporter": "python",
   "pygments_lexer": "ipython3",
   "version": "3.7.6"
  }
 },
 "nbformat": 4,
 "nbformat_minor": 4
}
