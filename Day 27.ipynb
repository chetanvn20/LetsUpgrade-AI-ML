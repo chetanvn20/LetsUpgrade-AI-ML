{
 "cells": [
  {
   "cell_type": "markdown",
   "metadata": {},
   "source": [
    "# KNN (k-nearest Neighbours)"
   ]
  },
  {
   "cell_type": "code",
   "execution_count": 1,
   "metadata": {},
   "outputs": [
    {
     "name": "stdout",
     "output_type": "stream",
     "text": [
      "C:\\Users\\narkh\\Downloads\\Datasets\\Decision tree\n"
     ]
    }
   ],
   "source": [
    "cd C:\\Users\\narkh\\Downloads\\Datasets\\Decision tree"
   ]
  },
  {
   "cell_type": "code",
   "execution_count": 31,
   "metadata": {},
   "outputs": [],
   "source": [
    "import pandas as pd\n",
    "import numpy as np\n",
    "from sklearn import preprocessing\n",
    "from sklearn.model_selection import train_test_split\n",
    "from sklearn.metrics import accuracy_score\n",
    "from sklearn.metrics import confusion_matrix\n",
    "from sklearn import svm"
   ]
  },
  {
   "cell_type": "code",
   "execution_count": 3,
   "metadata": {},
   "outputs": [],
   "source": [
    "data = pd.read_csv(\"train.csv\")"
   ]
  },
  {
   "cell_type": "code",
   "execution_count": 4,
   "metadata": {},
   "outputs": [
    {
     "data": {
      "text/html": [
       "<div>\n",
       "<style scoped>\n",
       "    .dataframe tbody tr th:only-of-type {\n",
       "        vertical-align: middle;\n",
       "    }\n",
       "\n",
       "    .dataframe tbody tr th {\n",
       "        vertical-align: top;\n",
       "    }\n",
       "\n",
       "    .dataframe thead th {\n",
       "        text-align: right;\n",
       "    }\n",
       "</style>\n",
       "<table border=\"1\" class=\"dataframe\">\n",
       "  <thead>\n",
       "    <tr style=\"text-align: right;\">\n",
       "      <th></th>\n",
       "      <th>PassengerId</th>\n",
       "      <th>Survived</th>\n",
       "      <th>Pclass</th>\n",
       "      <th>Name</th>\n",
       "      <th>Sex</th>\n",
       "      <th>Age</th>\n",
       "      <th>SibSp</th>\n",
       "      <th>Parch</th>\n",
       "      <th>Ticket</th>\n",
       "      <th>Fare</th>\n",
       "      <th>Cabin</th>\n",
       "      <th>Embarked</th>\n",
       "    </tr>\n",
       "  </thead>\n",
       "  <tbody>\n",
       "    <tr>\n",
       "      <th>0</th>\n",
       "      <td>1</td>\n",
       "      <td>0</td>\n",
       "      <td>3</td>\n",
       "      <td>Braund, Mr. Owen Harris</td>\n",
       "      <td>male</td>\n",
       "      <td>22.0</td>\n",
       "      <td>1</td>\n",
       "      <td>0</td>\n",
       "      <td>A/5 21171</td>\n",
       "      <td>7.2500</td>\n",
       "      <td>NaN</td>\n",
       "      <td>S</td>\n",
       "    </tr>\n",
       "    <tr>\n",
       "      <th>1</th>\n",
       "      <td>2</td>\n",
       "      <td>1</td>\n",
       "      <td>1</td>\n",
       "      <td>Cumings, Mrs. John Bradley (Florence Briggs Th...</td>\n",
       "      <td>female</td>\n",
       "      <td>38.0</td>\n",
       "      <td>1</td>\n",
       "      <td>0</td>\n",
       "      <td>PC 17599</td>\n",
       "      <td>71.2833</td>\n",
       "      <td>C85</td>\n",
       "      <td>C</td>\n",
       "    </tr>\n",
       "    <tr>\n",
       "      <th>2</th>\n",
       "      <td>3</td>\n",
       "      <td>1</td>\n",
       "      <td>3</td>\n",
       "      <td>Heikkinen, Miss. Laina</td>\n",
       "      <td>female</td>\n",
       "      <td>26.0</td>\n",
       "      <td>0</td>\n",
       "      <td>0</td>\n",
       "      <td>STON/O2. 3101282</td>\n",
       "      <td>7.9250</td>\n",
       "      <td>NaN</td>\n",
       "      <td>S</td>\n",
       "    </tr>\n",
       "    <tr>\n",
       "      <th>3</th>\n",
       "      <td>4</td>\n",
       "      <td>1</td>\n",
       "      <td>1</td>\n",
       "      <td>Futrelle, Mrs. Jacques Heath (Lily May Peel)</td>\n",
       "      <td>female</td>\n",
       "      <td>35.0</td>\n",
       "      <td>1</td>\n",
       "      <td>0</td>\n",
       "      <td>113803</td>\n",
       "      <td>53.1000</td>\n",
       "      <td>C123</td>\n",
       "      <td>S</td>\n",
       "    </tr>\n",
       "    <tr>\n",
       "      <th>4</th>\n",
       "      <td>5</td>\n",
       "      <td>0</td>\n",
       "      <td>3</td>\n",
       "      <td>Allen, Mr. William Henry</td>\n",
       "      <td>male</td>\n",
       "      <td>35.0</td>\n",
       "      <td>0</td>\n",
       "      <td>0</td>\n",
       "      <td>373450</td>\n",
       "      <td>8.0500</td>\n",
       "      <td>NaN</td>\n",
       "      <td>S</td>\n",
       "    </tr>\n",
       "  </tbody>\n",
       "</table>\n",
       "</div>"
      ],
      "text/plain": [
       "   PassengerId  Survived  Pclass  \\\n",
       "0            1         0       3   \n",
       "1            2         1       1   \n",
       "2            3         1       3   \n",
       "3            4         1       1   \n",
       "4            5         0       3   \n",
       "\n",
       "                                                Name     Sex   Age  SibSp  \\\n",
       "0                            Braund, Mr. Owen Harris    male  22.0      1   \n",
       "1  Cumings, Mrs. John Bradley (Florence Briggs Th...  female  38.0      1   \n",
       "2                             Heikkinen, Miss. Laina  female  26.0      0   \n",
       "3       Futrelle, Mrs. Jacques Heath (Lily May Peel)  female  35.0      1   \n",
       "4                           Allen, Mr. William Henry    male  35.0      0   \n",
       "\n",
       "   Parch            Ticket     Fare Cabin Embarked  \n",
       "0      0         A/5 21171   7.2500   NaN        S  \n",
       "1      0          PC 17599  71.2833   C85        C  \n",
       "2      0  STON/O2. 3101282   7.9250   NaN        S  \n",
       "3      0            113803  53.1000  C123        S  \n",
       "4      0            373450   8.0500   NaN        S  "
      ]
     },
     "execution_count": 4,
     "metadata": {},
     "output_type": "execute_result"
    }
   ],
   "source": [
    "data.head()"
   ]
  },
  {
   "cell_type": "code",
   "execution_count": 5,
   "metadata": {},
   "outputs": [
    {
     "data": {
      "text/plain": [
       "Index(['PassengerId', 'Survived', 'Pclass', 'Name', 'Sex', 'Age', 'SibSp',\n",
       "       'Parch', 'Ticket', 'Fare', 'Cabin', 'Embarked'],\n",
       "      dtype='object')"
      ]
     },
     "execution_count": 5,
     "metadata": {},
     "output_type": "execute_result"
    }
   ],
   "source": [
    "data.columns"
   ]
  },
  {
   "cell_type": "code",
   "execution_count": 6,
   "metadata": {},
   "outputs": [],
   "source": [
    "le = preprocessing.LabelEncoder()"
   ]
  },
  {
   "cell_type": "code",
   "execution_count": 7,
   "metadata": {},
   "outputs": [],
   "source": [
    "data[\"Sex\"] = le.fit_transform(data[\"Sex\"])\n",
    "data[\"Embarked\"] = le.fit_transform(data[\"Embarked\"])"
   ]
  },
  {
   "cell_type": "code",
   "execution_count": 8,
   "metadata": {},
   "outputs": [],
   "source": [
    "from sklearn import neighbors"
   ]
  },
  {
   "cell_type": "code",
   "execution_count": 9,
   "metadata": {},
   "outputs": [],
   "source": [
    "y = data[\"Survived\"]\n",
    "X = data[['Pclass','Sex', 'Age', 'SibSp','Parch', 'Fare', 'Embarked']]"
   ]
  },
  {
   "cell_type": "code",
   "execution_count": 10,
   "metadata": {},
   "outputs": [],
   "source": [
    "X_train,X_test,y_train,y_test = train_test_split(X,y,test_size=0.25,random_state=0)"
   ]
  },
  {
   "cell_type": "code",
   "execution_count": 12,
   "metadata": {},
   "outputs": [
    {
     "data": {
      "text/plain": [
       "0.7222222222222222"
      ]
     },
     "execution_count": 12,
     "metadata": {},
     "output_type": "execute_result"
    }
   ],
   "source": [
    "knn = neighbors.KNeighborsClassifier(n_neighbors=50)\n",
    "knn.fit(X_train,y_train)\n",
    "knn.score(X_train,y_train)"
   ]
  },
  {
   "cell_type": "code",
   "execution_count": 26,
   "metadata": {},
   "outputs": [
    {
     "name": "stdout",
     "output_type": "stream",
     "text": [
      "n-value    Accuracy\n",
      "   1       98.49849849849849 %\n",
      "   2       83.93393393393393 %\n",
      "   3       83.18318318318319 %\n",
      "   4       80.48048048048048 %\n",
      "   5       78.97897897897897 %\n",
      "   6       78.22822822822822 %\n",
      "   7       78.37837837837837 %\n",
      "   8       75.97597597597597 %\n",
      "   9       75.82582582582582 %\n",
      "   10       76.12612612612612 %\n",
      "   11       75.82582582582582 %\n",
      "   12       74.02402402402403 %\n",
      "   13       74.92492492492492 %\n",
      "   14       73.42342342342343 %\n",
      "   15       73.57357357357357 %\n",
      "   16       74.17417417417418 %\n",
      "   17       74.17417417417418 %\n",
      "   18       73.57357357357357 %\n",
      "   19       73.42342342342343 %\n",
      "   20       73.42342342342343 %\n",
      "   21       73.72372372372372 %\n",
      "   22       73.27327327327328 %\n",
      "   23       72.37237237237237 %\n",
      "   24       71.92192192192192 %\n",
      "   25       72.07207207207207 %\n",
      "   26       71.62162162162163 %\n",
      "   27       71.62162162162163 %\n",
      "   28       71.62162162162163 %\n",
      "   29       72.07207207207207 %\n",
      "   30       71.77177177177178 %\n",
      "   31       71.62162162162163 %\n",
      "   32       71.62162162162163 %\n",
      "   33       71.92192192192192 %\n",
      "   34       71.62162162162163 %\n",
      "   35       72.37237237237237 %\n",
      "   36       71.92192192192192 %\n",
      "   37       72.07207207207207 %\n",
      "   38       71.77177177177178 %\n",
      "   39       71.77177177177178 %\n",
      "   40       71.92192192192192 %\n",
      "   41       71.77177177177178 %\n",
      "   42       72.07207207207207 %\n",
      "   43       71.92192192192192 %\n",
      "   44       72.07207207207207 %\n",
      "   45       71.92192192192192 %\n",
      "   46       72.52252252252252 %\n",
      "   47       71.92192192192192 %\n",
      "   48       72.37237237237237 %\n",
      "   49       71.47147147147147 %\n",
      "   50       72.22222222222221 %\n",
      "   51       71.17117117117117 %\n",
      "   52       71.47147147147147 %\n",
      "   53       71.62162162162163 %\n",
      "   54       70.87087087087087 %\n",
      "   55       70.72072072072072 %\n",
      "   56       71.32132132132132 %\n",
      "   57       71.47147147147147 %\n",
      "   58       71.17117117117117 %\n",
      "   59       70.87087087087087 %\n",
      "   60       70.72072072072072 %\n",
      "   61       70.27027027027027 %\n",
      "   62       70.57057057057057 %\n",
      "   63       70.27027027027027 %\n",
      "   64       70.57057057057057 %\n",
      "   65       70.72072072072072 %\n",
      "   66       70.42042042042041 %\n",
      "   67       70.72072072072072 %\n",
      "   68       69.66966966966966 %\n",
      "   69       69.06906906906907 %\n",
      "   70       69.21921921921921 %\n",
      "   71       69.06906906906907 %\n",
      "   72       68.91891891891892 %\n",
      "   73       69.21921921921921 %\n",
      "   74       68.01801801801803 %\n",
      "   75       68.91891891891892 %\n",
      "   76       68.61861861861863 %\n",
      "   77       68.46846846846847 %\n",
      "   78       67.86786786786787 %\n",
      "   79       67.71771771771772 %\n",
      "   80       67.41741741741741 %\n",
      "   81       67.41741741741741 %\n",
      "   82       67.86786786786787 %\n",
      "   83       67.71771771771772 %\n",
      "   84       67.56756756756756 %\n",
      "   85       67.86786786786787 %\n",
      "   86       67.86786786786787 %\n",
      "   87       67.71771771771772 %\n",
      "   88       67.41741741741741 %\n",
      "   89       67.41741741741741 %\n",
      "   90       67.41741741741741 %\n",
      "   91       67.41741741741741 %\n",
      "   92       67.11711711711712 %\n",
      "   93       66.96696696696696 %\n",
      "   94       66.96696696696696 %\n",
      "   95       67.11711711711712 %\n",
      "   96       67.86786786786787 %\n",
      "   97       67.56756756756756 %\n",
      "   98       67.11711711711712 %\n",
      "   99       67.26726726726727 %\n",
      "   100       67.26726726726727 %\n",
      "   101       66.81681681681681 %\n",
      "   102       67.11711711711712 %\n",
      "   103       66.96696696696696 %\n",
      "   104       67.11711711711712 %\n",
      "   105       67.11711711711712 %\n",
      "   106       67.56756756756756 %\n",
      "   107       68.01801801801803 %\n",
      "   108       67.86786786786787 %\n",
      "   109       68.16816816816817 %\n",
      "   110       67.86786786786787 %\n",
      "   111       67.71771771771772 %\n",
      "   112       67.26726726726727 %\n",
      "   113       67.56756756756756 %\n",
      "   114       67.56756756756756 %\n",
      "   115       67.41741741741741 %\n",
      "   116       67.71771771771772 %\n",
      "   117       67.41741741741741 %\n",
      "   118       67.41741741741741 %\n",
      "   119       67.41741741741741 %\n",
      "   120       67.86786786786787 %\n",
      "   121       67.41741741741741 %\n",
      "   122       67.41741741741741 %\n",
      "   123       67.56756756756756 %\n",
      "   124       67.71771771771772 %\n",
      "   125       67.56756756756756 %\n",
      "   126       67.71771771771772 %\n",
      "   127       67.56756756756756 %\n",
      "   128       68.61861861861863 %\n",
      "   129       68.46846846846847 %\n",
      "   130       69.06906906906907 %\n",
      "   131       68.91891891891892 %\n",
      "   132       68.46846846846847 %\n",
      "   133       68.76876876876878 %\n",
      "   134       68.61861861861863 %\n",
      "   135       68.76876876876878 %\n",
      "   136       68.61861861861863 %\n",
      "   137       68.61861861861863 %\n",
      "   138       68.76876876876878 %\n",
      "   139       68.16816816816817 %\n",
      "   140       68.91891891891892 %\n",
      "   141       69.06906906906907 %\n",
      "   142       68.91891891891892 %\n",
      "   143       68.31831831831832 %\n",
      "   144       68.76876876876878 %\n",
      "   145       68.76876876876878 %\n",
      "   146       68.76876876876878 %\n",
      "   147       68.91891891891892 %\n",
      "   148       68.76876876876878 %\n",
      "   149       68.76876876876878 %\n",
      "   150       68.91891891891892 %\n",
      "   151       69.06906906906907 %\n",
      "   152       68.76876876876878 %\n",
      "   153       68.76876876876878 %\n",
      "   154       68.46846846846847 %\n",
      "   155       68.91891891891892 %\n",
      "   156       68.61861861861863 %\n",
      "   157       68.61861861861863 %\n",
      "   158       68.46846846846847 %\n",
      "   159       68.46846846846847 %\n",
      "   160       68.46846846846847 %\n",
      "   161       68.46846846846847 %\n",
      "   162       68.31831831831832 %\n",
      "   163       68.46846846846847 %\n",
      "   164       68.16816816816817 %\n",
      "   165       68.46846846846847 %\n",
      "   166       68.46846846846847 %\n",
      "   167       68.76876876876878 %\n",
      "   168       68.31831831831832 %\n",
      "   169       68.46846846846847 %\n",
      "   170       68.31831831831832 %\n",
      "   171       68.46846846846847 %\n",
      "   172       68.46846846846847 %\n",
      "   173       68.46846846846847 %\n",
      "   174       68.46846846846847 %\n",
      "   175       68.46846846846847 %\n",
      "   176       68.61861861861863 %\n",
      "   177       68.61861861861863 %\n",
      "   178       68.16816816816817 %\n",
      "   179       68.61861861861863 %\n",
      "   180       68.16816816816817 %\n",
      "   181       68.31831831831832 %\n",
      "   182       68.01801801801803 %\n",
      "   183       68.31831831831832 %\n",
      "   184       68.01801801801803 %\n",
      "   185       67.71771771771772 %\n",
      "   186       67.86786786786787 %\n",
      "   187       67.11711711711712 %\n",
      "   188       67.71771771771772 %\n",
      "   189       68.01801801801803 %\n",
      "   190       67.86786786786787 %\n",
      "   191       68.31831831831832 %\n",
      "   192       68.31831831831832 %\n",
      "   193       68.76876876876878 %\n",
      "   194       68.61861861861863 %\n",
      "   195       68.76876876876878 %\n",
      "   196       68.91891891891892 %\n",
      "   197       68.91891891891892 %\n",
      "   198       68.61861861861863 %\n",
      "   199       68.91891891891892 %\n",
      "   200       68.31831831831832 %\n",
      "   201       68.61861861861863 %\n",
      "   202       68.31831831831832 %\n",
      "   203       68.46846846846847 %\n",
      "   204       67.86786786786787 %\n",
      "   205       68.01801801801803 %\n",
      "   206       67.41741741741741 %\n",
      "   207       68.16816816816817 %\n",
      "   208       67.86786786786787 %\n",
      "   209       68.01801801801803 %\n",
      "   210       68.01801801801803 %\n",
      "   211       68.16816816816817 %\n",
      "   212       67.71771771771772 %\n",
      "   213       68.01801801801803 %\n",
      "   214       67.86786786786787 %\n",
      "   215       68.16816816816817 %\n",
      "   216       67.86786786786787 %\n",
      "   217       68.46846846846847 %\n",
      "   218       68.31831831831832 %\n",
      "   219       68.31831831831832 %\n",
      "   220       68.01801801801803 %\n",
      "   221       68.01801801801803 %\n",
      "   222       67.86786786786787 %\n",
      "   223       68.16816816816817 %\n",
      "   224       67.86786786786787 %\n",
      "   225       67.71771771771772 %\n",
      "   226       67.41741741741741 %\n",
      "   227       67.86786786786787 %\n",
      "   228       67.86786786786787 %\n",
      "   229       68.01801801801803 %\n",
      "   230       67.41741741741741 %\n",
      "   231       67.56756756756756 %\n",
      "   232       67.11711711711712 %\n",
      "   233       67.26726726726727 %\n",
      "   234       67.71771771771772 %\n",
      "   235       67.71771771771772 %\n",
      "   236       67.71771771771772 %\n",
      "   237       67.56756756756756 %\n",
      "   238       67.11711711711712 %\n",
      "   239       67.26726726726727 %\n",
      "   240       67.11711711711712 %\n",
      "   241       67.41741741741741 %\n",
      "   242       66.66666666666666 %\n",
      "   243       66.96696696696696 %\n",
      "   244       66.81681681681681 %\n",
      "   245       66.66666666666666 %\n",
      "   246       65.76576576576578 %\n",
      "   247       66.21621621621621 %\n",
      "   248       66.51651651651652 %\n",
      "   249       66.66666666666666 %\n",
      "   250       66.66666666666666 %\n",
      "   251       66.81681681681681 %\n",
      "   252       66.51651651651652 %\n",
      "   253       66.51651651651652 %\n",
      "   254       66.21621621621621 %\n",
      "   255       66.36636636636636 %\n",
      "   256       66.21621621621621 %\n",
      "   257       66.51651651651652 %\n",
      "   258       66.36636636636636 %\n",
      "   259       66.36636636636636 %\n",
      "   260       66.36636636636636 %\n",
      "   261       66.66666666666666 %\n",
      "   262       66.21621621621621 %\n",
      "   263       66.21621621621621 %\n",
      "   264       65.46546546546547 %\n",
      "   265       65.91591591591592 %\n",
      "   266       65.91591591591592 %\n",
      "   267       66.06606606606607 %\n"
     ]
    }
   ],
   "source": [
    "print(\"n-value\", \"  \", \"Accuracy\")\n",
    "for i in range(1,268):\n",
    "    knn = neighbors.KNeighborsClassifier(n_neighbors=i)\n",
    "    knn.fit(X_train,y_train)\n",
    "    print(\"  \", i, \"     \", (knn.score(X_train,y_train))*100,\"%\")"
   ]
  },
  {
   "cell_type": "markdown",
   "metadata": {},
   "source": [
    "# SVM (Support Vector Machine)"
   ]
  },
  {
   "cell_type": "code",
   "execution_count": 35,
   "metadata": {},
   "outputs": [],
   "source": [
    "def svmmodel(X,y):\n",
    "    X_train,X_test,y_train,y_test = train_test_split(X,y,test_size=0.25,random_state=0)\n",
    "    clf = svm.SVC(gamma=0.01,C=100)\n",
    "    clf.fit(X_train,y_train)\n",
    "    y_pred = clf.predict(X_test)\n",
    "    a = accuracy_score(y_test,y_pred,normalize=True)\n",
    "    return a"
   ]
  },
  {
   "cell_type": "code",
   "execution_count": 55,
   "metadata": {},
   "outputs": [],
   "source": [
    "y1 = data[\"Pclass\"]\n",
    "X1 = data[['Survived','Sex', 'Age', 'SibSp','Parch', 'Fare', 'Embarked']]"
   ]
  },
  {
   "cell_type": "code",
   "execution_count": 56,
   "metadata": {},
   "outputs": [
    {
     "data": {
      "text/plain": [
       "0.9103139013452914"
      ]
     },
     "execution_count": 56,
     "metadata": {},
     "output_type": "execute_result"
    }
   ],
   "source": [
    "svmmodel(X1,y1)"
   ]
  },
  {
   "cell_type": "code",
   "execution_count": 39,
   "metadata": {},
   "outputs": [],
   "source": [
    "y1 = data[\"Survived\"]\n",
    "X1 = data[['Pclass','Sex', 'Age', 'SibSp','Parch', 'Embarked']]"
   ]
  },
  {
   "cell_type": "code",
   "execution_count": 40,
   "metadata": {},
   "outputs": [
    {
     "data": {
      "text/plain": [
       "0.7713004484304933"
      ]
     },
     "execution_count": 40,
     "metadata": {},
     "output_type": "execute_result"
    }
   ],
   "source": [
    "svmmodel(X1,y1)"
   ]
  },
  {
   "cell_type": "code",
   "execution_count": 41,
   "metadata": {},
   "outputs": [],
   "source": [
    "y1 = data[\"Sex\"]\n",
    "X1 = data[['Pclass','Survived', 'Age', 'SibSp','Parch', 'Embarked']]"
   ]
  },
  {
   "cell_type": "code",
   "execution_count": 42,
   "metadata": {},
   "outputs": [
    {
     "data": {
      "text/plain": [
       "0.7443946188340808"
      ]
     },
     "execution_count": 42,
     "metadata": {},
     "output_type": "execute_result"
    }
   ],
   "source": [
    "svmmodel(X1,y1)"
   ]
  },
  {
   "cell_type": "code",
   "execution_count": 47,
   "metadata": {},
   "outputs": [],
   "source": [
    "y1 = data[\"SibSp\"]\n",
    "X1 = data[['Pclass','Survived', 'Sex', 'Age','Parch', 'Embarked']]"
   ]
  },
  {
   "cell_type": "code",
   "execution_count": 48,
   "metadata": {},
   "outputs": [
    {
     "data": {
      "text/plain": [
       "0.695067264573991"
      ]
     },
     "execution_count": 48,
     "metadata": {},
     "output_type": "execute_result"
    }
   ],
   "source": [
    "svmmodel(X1,y1)"
   ]
  },
  {
   "cell_type": "code",
   "execution_count": 49,
   "metadata": {},
   "outputs": [],
   "source": [
    "y1 = data[\"Parch\"]\n",
    "X1 = data[['Pclass','Survived', 'Sex', 'Age','SibSp', 'Embarked']]"
   ]
  },
  {
   "cell_type": "code",
   "execution_count": 50,
   "metadata": {},
   "outputs": [
    {
     "data": {
      "text/plain": [
       "0.7847533632286996"
      ]
     },
     "execution_count": 50,
     "metadata": {},
     "output_type": "execute_result"
    }
   ],
   "source": [
    "svmmodel(X1,y1)"
   ]
  },
  {
   "cell_type": "code",
   "execution_count": 51,
   "metadata": {},
   "outputs": [],
   "source": [
    "y1 = data[\"Embarked\"]\n",
    "X1 = data[['Pclass','Survived', 'Sex', 'Age','SibSp', 'Parch']]"
   ]
  },
  {
   "cell_type": "code",
   "execution_count": 52,
   "metadata": {},
   "outputs": [
    {
     "data": {
      "text/plain": [
       "0.7354260089686099"
      ]
     },
     "execution_count": 52,
     "metadata": {},
     "output_type": "execute_result"
    }
   ],
   "source": [
    "svmmodel(X1,y1)"
   ]
  },
  {
   "cell_type": "code",
   "execution_count": null,
   "metadata": {},
   "outputs": [],
   "source": []
  }
 ],
 "metadata": {
  "kernelspec": {
   "display_name": "Python 3",
   "language": "python",
   "name": "python3"
  },
  "language_info": {
   "codemirror_mode": {
    "name": "ipython",
    "version": 3
   },
   "file_extension": ".py",
   "mimetype": "text/x-python",
   "name": "python",
   "nbconvert_exporter": "python",
   "pygments_lexer": "ipython3",
   "version": "3.7.6"
  }
 },
 "nbformat": 4,
 "nbformat_minor": 4
}
