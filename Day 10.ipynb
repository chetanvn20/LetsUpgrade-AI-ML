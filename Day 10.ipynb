# -*- coding: utf-8 -*-
"""
Created on Tue Jul 21 15:37:42 2020

@author: narkh
"""


